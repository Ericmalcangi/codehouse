{
  "nbformat": 4,
  "nbformat_minor": 0,
  "metadata": {
    "colab": {
      "provenance": [],
      "authorship_tag": "ABX9TyPE6ebgDO2Md24Ew8xKeJzy",
      "include_colab_link": true
    },
    "kernelspec": {
      "name": "python3",
      "display_name": "Python 3"
    },
    "language_info": {
      "name": "python"
    }
  },
  "cells": [
    {
      "cell_type": "markdown",
      "metadata": {
        "id": "view-in-github",
        "colab_type": "text"
      },
      "source": [
        "<a href=\"https://colab.research.google.com/github/Ericmalcangi/codehouse/blob/main/armatulogin_malcangi.ipynb\" target=\"_parent\"><img src=\"https://colab.research.google.com/assets/colab-badge.svg\" alt=\"Open In Colab\"/></a>"
      ]
    },
    {
      "cell_type": "code",
      "execution_count": null,
      "metadata": {
        "id": "aL2KU-H7C0AB"
      },
      "outputs": [],
      "source": [
        "\n",
        "usuarios = {}\n",
        "\n",
        "def registrar_usuario():\n",
        "\n",
        "    username = input(\"Ingrese un nombre de usuario: \")\n",
        "\n",
        "    # Check usuarios existente\n",
        "    if username in usuarios:\n",
        "        print(\"El nombre de usuario que desea ingresar ya existe. Intente ingresar con otro.\")\n",
        "        return\n",
        "\n",
        "    password = input(\"Ingrese una contraseña: \")\n",
        "    # Guardar usuarios+pass\n",
        "    usuarios[username] = password\n",
        "    print(f\"Su nombre de Usuario '{username}' fue registrado con éxito.\")\n",
        "\n",
        "def iniciar_sesion():\n",
        "\n",
        "    username = input(\"Ingrese su nombre de usuario: \")\n",
        "\n",
        "    # Valido usuario\n",
        "    if username not in usuarios:\n",
        "        print(\"Usuario desconocido. Verifique su nombre de usuario.\")\n",
        "        return\n",
        "\n",
        "    password = input(\"Ingrese su contraseña: \")\n",
        "\n",
        "    # Valido password\n",
        "    if usuarios[username] == password:\n",
        "        print(f\"Bienvenido, {username}!\")\n",
        "    else:\n",
        "        print(\"Contraseña incorrecta. Intente nuevamente.\")\n",
        "\n",
        "def mostrar_usuarios():\n",
        "    \"\"\"Función para mostrar todos los usuarios registrados.\"\"\"\n",
        "    if usuarios:\n",
        "        print(\"Usuarios registrados:\")\n",
        "        for username in usuarios.keys():\n",
        "            print(f\"- {username}\")\n",
        "    else:\n",
        "        print(\"No hay usuarios registrados.\")\n",
        "\n",
        "def login():\n",
        "    \"\"\"\"\"\"\n",
        "    while True:\n",
        "        print(\"\\n--- Login ---\")\n",
        "        print(\"1. Registrar usuario\")\n",
        "        print(\"2. Iniciar sesión\")\n",
        "        print(\"3. Mostrar usuarios registrados\")\n",
        "        print(\"4. Salir\")\n",
        "        opcion = input(\"Seleccione una opción (1-4) para comenzar: \")\n",
        "\n",
        "        if opcion == '1':\n",
        "            registrar_usuario()\n",
        "        elif opcion == '2':\n",
        "            iniciar_sesion()\n",
        "        elif opcion == '3':\n",
        "            mostrar_usuarios()\n",
        "        elif opcion == '4':\n",
        "            print(\"Saliendo del programa, que tengas un buen dia!\")\n",
        "            break\n",
        "        else:\n",
        "            print(\"Opción no válida. Intente de nuevo.\")\n",
        "\n",
        "# Iniciar el programa\n",
        "login()\n"
      ]
    }
  ]
}
